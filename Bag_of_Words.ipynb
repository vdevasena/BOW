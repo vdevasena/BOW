{
  "nbformat": 4,
  "nbformat_minor": 0,
  "metadata": {
    "colab": {
      "provenance": []
    },
    "kernelspec": {
      "name": "python3",
      "display_name": "Python 3"
    },
    "language_info": {
      "name": "python"
    }
  },
  "cells": [
    {
      "cell_type": "code",
      "execution_count": 4,
      "metadata": {
        "colab": {
          "base_uri": "https://localhost:8080/"
        },
        "id": "qHTWf7lm3sy1",
        "outputId": "b088b965-f063-450e-8e3c-462aea9e4758"
      },
      "outputs": [
        {
          "output_type": "stream",
          "name": "stderr",
          "text": [
            "[nltk_data] Downloading package punkt_tab to /root/nltk_data...\n",
            "[nltk_data]   Unzipping tokenizers/punkt_tab.zip.\n"
          ]
        }
      ],
      "source": [
        "# Python3 code for preprocessing text\n",
        "import nltk\n",
        "nltk.download('punkt_tab')\n",
        "import re\n",
        "import numpy as np\n",
        "\n",
        "# execute the text here as :\n",
        "text = \"\"\"Beans. I was trying to explain to somebody as we were flying in, that's corn.  That's beans. And they were very impressed at my agricultural knowledge. Please give it up for Amaury once again for that outstanding introduction. I have a bunch of good friends here today, including somebody who I served with, who is one of the finest senators in the country, and we're lucky to have him, your Senator, Dick Durbin is here. I also noticed, by the way, former Governor Edgar here, who I haven't seen in a long time, and somehow he has not aged and I have. And it's great to see you, Governor. I want to thank President Killeen and everybody at the U of I System for making it possible for me to be here today. And I am deeply honored at the Paul Douglas Award that is being given to me. He is somebody who set the path for so much outstanding public service here in Illinois. Now, I want to start by addressing the elephant in the room. I know people are still wondering why I didn't speak at the commencement.\"\"\"\n",
        "dataset = nltk.sent_tokenize(text)\n",
        "for i in range(len(dataset)):\n",
        "    dataset[i] = dataset[i].lower()\n",
        "    dataset[i] = re.sub(r'\\W', ' ', dataset[i])\n",
        "    dataset[i] = re.sub(r'\\s+', ' ', dataset[i])"
      ]
    },
    {
      "cell_type": "code",
      "source": [
        "dataset"
      ],
      "metadata": {
        "colab": {
          "base_uri": "https://localhost:8080/"
        },
        "id": "HHLCUIzC3ucf",
        "outputId": "8dfa9284-8fc3-4658-f6a1-50032b233140"
      },
      "execution_count": 5,
      "outputs": [
        {
          "output_type": "execute_result",
          "data": {
            "text/plain": [
              "['beans ',\n",
              " 'i was trying to explain to somebody as we were flying in that s corn ',\n",
              " 'that s beans ',\n",
              " 'and they were very impressed at my agricultural knowledge ',\n",
              " 'please give it up for amaury once again for that outstanding introduction ',\n",
              " 'i have a bunch of good friends here today including somebody who i served with who is one of the finest senators in the country and we re lucky to have him your senator dick durbin is here ',\n",
              " 'i also noticed by the way former governor edgar here who i haven t seen in a long time and somehow he has not aged and i have ',\n",
              " 'and it s great to see you governor ',\n",
              " 'i want to thank president killeen and everybody at the u of i system for making it possible for me to be here today ',\n",
              " 'and i am deeply honored at the paul douglas award that is being given to me ',\n",
              " 'he is somebody who set the path for so much outstanding public service here in illinois ',\n",
              " 'now i want to start by addressing the elephant in the room ',\n",
              " 'i know people are still wondering why i didn t speak at the commencement ']"
            ]
          },
          "metadata": {},
          "execution_count": 5
        }
      ]
    },
    {
      "cell_type": "code",
      "source": [
        "# Creating the Bag of Words model\n",
        "word2count = {}\n",
        "for data in dataset:\n",
        "    words = nltk.word_tokenize(data)\n",
        "    for word in words:\n",
        "        if word not in word2count.keys():\n",
        "            word2count[word] = 1\n",
        "        else:\n",
        "            word2count[word] += 1"
      ],
      "metadata": {
        "id": "PzT4biIs4KvK"
      },
      "execution_count": 6,
      "outputs": []
    },
    {
      "cell_type": "code",
      "source": [
        "word2count"
      ],
      "metadata": {
        "colab": {
          "base_uri": "https://localhost:8080/"
        },
        "id": "crj16c_P4Qd1",
        "outputId": "203ec12d-d60a-4115-8880-9f39c1fb6e87"
      },
      "execution_count": 7,
      "outputs": [
        {
          "output_type": "execute_result",
          "data": {
            "text/plain": [
              "{'beans': 2,\n",
              " 'i': 12,\n",
              " 'was': 1,\n",
              " 'trying': 1,\n",
              " 'to': 8,\n",
              " 'explain': 1,\n",
              " 'somebody': 3,\n",
              " 'as': 1,\n",
              " 'we': 2,\n",
              " 'were': 2,\n",
              " 'flying': 1,\n",
              " 'in': 5,\n",
              " 'that': 4,\n",
              " 's': 3,\n",
              " 'corn': 1,\n",
              " 'and': 7,\n",
              " 'they': 1,\n",
              " 'very': 1,\n",
              " 'impressed': 1,\n",
              " 'at': 4,\n",
              " 'my': 1,\n",
              " 'agricultural': 1,\n",
              " 'knowledge': 1,\n",
              " 'please': 1,\n",
              " 'give': 1,\n",
              " 'it': 3,\n",
              " 'up': 1,\n",
              " 'for': 5,\n",
              " 'amaury': 1,\n",
              " 'once': 1,\n",
              " 'again': 1,\n",
              " 'outstanding': 2,\n",
              " 'introduction': 1,\n",
              " 'have': 3,\n",
              " 'a': 2,\n",
              " 'bunch': 1,\n",
              " 'of': 3,\n",
              " 'good': 1,\n",
              " 'friends': 1,\n",
              " 'here': 5,\n",
              " 'today': 2,\n",
              " 'including': 1,\n",
              " 'who': 4,\n",
              " 'served': 1,\n",
              " 'with': 1,\n",
              " 'is': 4,\n",
              " 'one': 1,\n",
              " 'the': 9,\n",
              " 'finest': 1,\n",
              " 'senators': 1,\n",
              " 'country': 1,\n",
              " 're': 1,\n",
              " 'lucky': 1,\n",
              " 'him': 1,\n",
              " 'your': 1,\n",
              " 'senator': 1,\n",
              " 'dick': 1,\n",
              " 'durbin': 1,\n",
              " 'also': 1,\n",
              " 'noticed': 1,\n",
              " 'by': 2,\n",
              " 'way': 1,\n",
              " 'former': 1,\n",
              " 'governor': 2,\n",
              " 'edgar': 1,\n",
              " 'haven': 1,\n",
              " 't': 2,\n",
              " 'seen': 1,\n",
              " 'long': 1,\n",
              " 'time': 1,\n",
              " 'somehow': 1,\n",
              " 'he': 2,\n",
              " 'has': 1,\n",
              " 'not': 1,\n",
              " 'aged': 1,\n",
              " 'great': 1,\n",
              " 'see': 1,\n",
              " 'you': 1,\n",
              " 'want': 2,\n",
              " 'thank': 1,\n",
              " 'president': 1,\n",
              " 'killeen': 1,\n",
              " 'everybody': 1,\n",
              " 'u': 1,\n",
              " 'system': 1,\n",
              " 'making': 1,\n",
              " 'possible': 1,\n",
              " 'me': 2,\n",
              " 'be': 1,\n",
              " 'am': 1,\n",
              " 'deeply': 1,\n",
              " 'honored': 1,\n",
              " 'paul': 1,\n",
              " 'douglas': 1,\n",
              " 'award': 1,\n",
              " 'being': 1,\n",
              " 'given': 1,\n",
              " 'set': 1,\n",
              " 'path': 1,\n",
              " 'so': 1,\n",
              " 'much': 1,\n",
              " 'public': 1,\n",
              " 'service': 1,\n",
              " 'illinois': 1,\n",
              " 'now': 1,\n",
              " 'start': 1,\n",
              " 'addressing': 1,\n",
              " 'elephant': 1,\n",
              " 'room': 1,\n",
              " 'know': 1,\n",
              " 'people': 1,\n",
              " 'are': 1,\n",
              " 'still': 1,\n",
              " 'wondering': 1,\n",
              " 'why': 1,\n",
              " 'didn': 1,\n",
              " 'speak': 1,\n",
              " 'commencement': 1}"
            ]
          },
          "metadata": {},
          "execution_count": 7
        }
      ]
    },
    {
      "cell_type": "code",
      "source": [
        "import heapq\n",
        "freq_words = heapq.nlargest(100, word2count, key=word2count.get)"
      ],
      "metadata": {
        "id": "ZsEpZ88R4QZp"
      },
      "execution_count": 8,
      "outputs": []
    },
    {
      "cell_type": "code",
      "source": [
        "X = []\n",
        "for data in dataset:\n",
        "    vector = []\n",
        "    for word in freq_words:\n",
        "        if word in nltk.word_tokenize(data):\n",
        "            vector.append(1)\n",
        "        else:\n",
        "            vector.append(0)\n",
        "    X.append(vector)\n",
        "X = np.asarray(X)"
      ],
      "metadata": {
        "id": "5bK8Sb4U4QWI"
      },
      "execution_count": 9,
      "outputs": []
    },
    {
      "cell_type": "code",
      "source": [
        "X"
      ],
      "metadata": {
        "colab": {
          "base_uri": "https://localhost:8080/"
        },
        "id": "t8VKJ5j85GYf",
        "outputId": "67886fde-1cda-42f4-f0be-c9cb5a488de3"
      },
      "execution_count": 10,
      "outputs": [
        {
          "output_type": "execute_result",
          "data": {
            "text/plain": [
              "array([[0, 0, 0, ..., 0, 0, 0],\n",
              "       [1, 0, 1, ..., 0, 0, 0],\n",
              "       [0, 0, 0, ..., 0, 0, 0],\n",
              "       ...,\n",
              "       [0, 1, 0, ..., 1, 1, 1],\n",
              "       [1, 1, 1, ..., 0, 0, 0],\n",
              "       [1, 1, 0, ..., 0, 0, 0]])"
            ]
          },
          "metadata": {},
          "execution_count": 10
        }
      ]
    }
  ]
}